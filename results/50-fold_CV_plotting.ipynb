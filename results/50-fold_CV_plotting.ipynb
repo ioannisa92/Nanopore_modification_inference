{
 "cells": [
  {
   "cell_type": "code",
   "execution_count": 2,
   "metadata": {},
   "outputs": [],
   "source": [
    "import pandas as pd\n",
    "import numpy as np\n",
    "import seaborn as sns\n",
    "import matplotlib.pyplot as plt\n",
    "from statannot import add_stat_annotation\n"
   ]
  },
  {
   "cell_type": "code",
   "execution_count": 3,
   "metadata": {},
   "outputs": [],
   "source": [
    "res = np.load(\"../results/rna_cv_results.npy\", allow_pickle=True).item()\n"
   ]
  },
  {
   "cell_type": "code",
   "execution_count": 17,
   "metadata": {},
   "outputs": [],
   "source": [
    "mat = np.empty((len(res.keys()), 50))\n",
    "for i,key in enumerate(res.keys()):\n",
    "    \n",
    "    mat[i] = res[key]['rmse']"
   ]
  },
  {
   "cell_type": "code",
   "execution_count": 18,
   "metadata": {},
   "outputs": [],
   "source": [
    "df = pd.DataFrame(mat, index=res.keys())"
   ]
  },
  {
   "cell_type": "code",
   "execution_count": 19,
   "metadata": {},
   "outputs": [
    {
     "data": {
      "text/plain": [
       "0.1-0.9    0.009217\n",
       "0.2-0.8    0.009008\n",
       "0.5-0.5    0.011069\n",
       "0.8-0.2    0.018603\n",
       "0.9-0.1    0.042864\n",
       "dtype: float64"
      ]
     },
     "execution_count": 19,
     "metadata": {},
     "output_type": "execute_result"
    }
   ],
   "source": [
    "df.mean(axis=1)"
   ]
  },
  {
   "cell_type": "code",
   "execution_count": 20,
   "metadata": {},
   "outputs": [],
   "source": [
    "#df = pd.read_csv(\"CV_50-fold_results.tsv\", index_col=0, sep='\\t')\n",
    "\n",
    "values = []\n",
    "labels = []\n",
    "for fold in df.index.values:\n",
    "    values += [df.loc[fold].values]\n",
    "    labels += [len(df.loc[fold].values)*[fold]]\n",
    "\n",
    "values = np.hstack(values)\n",
    "labels = np.hstack(labels)\n",
    "\n",
    "final = np.vstack([values, labels])\n",
    "plot_df = pd.DataFrame(final.T, columns = ['rmse', 'split'])\n",
    "\n",
    "plot_df['split'] = plot_df['split'].astype(str)\n",
    "plot_df['rmse'] = plot_df['rmse'].astype(float).apply(np.log2)"
   ]
  },
  {
   "cell_type": "code",
   "execution_count": 21,
   "metadata": {},
   "outputs": [
    {
     "name": "stdout",
     "output_type": "stream",
     "text": [
      "['0.1-0.9', '0.2-0.8', '0.5-0.5', '0.8-0.2', '0.9-0.1']\n",
      "0.1-0.9 v.s. 0.2-0.8: t-test independent samples, P_val=9.476e-02 stat=1.687e+00\n",
      "0.2-0.8 v.s. 0.5-0.5: t-test independent samples, P_val=4.480e-16 stat=-9.738e+00\n",
      "0.5-0.5 v.s. 0.8-0.2: t-test independent samples, P_val=5.740e-41 stat=-2.280e+01\n",
      "0.8-0.2 v.s. 0.9-0.1: t-test independent samples, P_val=6.900e-51 stat=-2.977e+01\n"
     ]
    },
    {
     "data": {
      "image/png": "[encoded data removed]",
      "text/plain": [
       "<Figure size 720x720 with 1 Axes>"
      ]
     },
     "metadata": {
      "needs_background": "light"
     },
     "output_type": "display_data"
    }
   ],
   "source": [
    "plt.figure(figsize=(10,10))\n",
    "all_splits = []\n",
    "split_labels = []\n",
    "\n",
    "for split in np.unique(plot_df.split.values):\n",
    "    split_labels += [split]\n",
    "    all_splits += [df.loc[split].values]\n",
    "print(split_labels)\n",
    "ax = sns.boxplot(x=\"split\", y=\"rmse\", data=plot_df)\n",
    "test_results = add_stat_annotation(ax, data=plot_df, x=\"split\", y=\"rmse\", order=split_labels,\n",
    "                                   box_pairs=[('0.1-0.9', '0.2-0.8'),\n",
    "                                              ('0.2-0.8', '0.5-0.5'), ('0.5-0.5', '0.8-0.2'),\n",
    "                                             ('0.8-0.2','0.9-0.1')],\n",
    "                                   test='t-test_ind', text_format=\"simple\",loc='inside', verbose=2)\n",
    "\n",
    "plt.ylabel(r\"$log_2(RMSE)$\", fontsize=20)\n",
    "plt.xlabel(\"\")\n",
    "plt.xticks(np.arange(0,len(all_splits)), split_labels, fontsize=17, rotation=90)\n",
    "plt.yticks(fontsize=17)\n",
    "\n",
    "plt.savefig(\"../plots/RNA_50-fold_results.png\", dpi=600)\n",
    "plt.show()"
   ]
  },
  {
   "cell_type": "code",
   "execution_count": null,
   "metadata": {},
   "outputs": [],
   "source": []
  },
  {
   "cell_type": "code",
   "execution_count": null,
   "metadata": {},
   "outputs": [],
   "source": []
  },
  {
   "cell_type": "code",
   "execution_count": null,
   "metadata": {},
   "outputs": [],
   "source": []
  }
 ],
 "metadata": {
  "kernelspec": {
   "display_name": "Python 3",
   "language": "python",
   "name": "python3"
  },
  "language_info": {
   "codemirror_mode": {
    "name": "ipython",
    "version": 3
   },
   "file_extension": ".py",
   "mimetype": "text/x-python",
   "name": "python",
   "nbconvert_exporter": "python",
   "pygments_lexer": "ipython3",
   "version": "3.7.3"
  }
 },
 "nbformat": 4,
 "nbformat_minor": 2
}
