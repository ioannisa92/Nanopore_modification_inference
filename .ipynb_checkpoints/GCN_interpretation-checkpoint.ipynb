{
 "cells": [
  {
   "cell_type": "code",
   "execution_count": 1,
   "metadata": {},
   "outputs": [
    {
     "name": "stderr",
     "output_type": "stream",
     "text": [
      "Using TensorFlow backend.\n"
     ]
    }
   ],
   "source": [
    "from modules.nn_model import *\n",
    "from modules.cv_utils import *\n",
    "from modules import kmer_chemistry\n",
    "import numpy as np\n",
    "from keras import backend as K\n",
    "from scipy.stats import pearsonr\n",
    "import seaborn as sns\n",
    "import tensorflow as tf\n",
    "\n",
    "from rdkit.Chem import AllChem\n",
    "from rdkit.Chem.Draw import IPythonConsole\n",
    "from rdkit.Chem.Draw import MolDrawing, DrawingOptions\n",
    "from rdkit import Chem\n",
    "from rdkit.Chem import Draw\n",
    "from rdkit.Chem.Draw import IPythonConsole\n",
    "IPythonConsole.ipython_useSVG = True\n",
    "from IPython.display import SVG\n",
    "from keras.models import model_from_json\n",
    "from modules.spectral_layers import MultiGraphCNN"
   ]
  },
  {
   "cell_type": "code",
   "execution_count": 2,
   "metadata": {},
   "outputs": [],
   "source": [
    "# def get_AX(kmer_list, n_type):\n",
    "\n",
    "#     '''\n",
    "#     Function takes in a kmer-pA measurement lists. Kmers are converted to their SMILES representation.\n",
    "#     An array of the molecular Adjacency and Feature matrices is returned\n",
    "\n",
    "#     Parameters\n",
    "#     -----------\n",
    "#     kmer_list: list, list of  kmerse\n",
    "\n",
    "#     Returns\n",
    "#     ----------\n",
    "#     A: mat, matrix of atom to atom connections for each kmer; shape = (n_of_molecules, n_atoms, n_atoms)\n",
    "#     X mat, matrix of atom to features for each kmer; shape = (n_of_molecules, n_atoms, n_features)\n",
    "#     '''\n",
    "\n",
    "#     k = len(kmer_list[0])\n",
    "\n",
    "#     dna_base = {'A':'OP(=O)(O)OCC1OC(N3C=NC2=C(N)N=CN=C23)CC1',\n",
    "#             'Q': \"OP(=O)(O)OCC1OC(N3C=NC2=C(NC)N=CN=C23)CC1\", #6mA\n",
    "#             'T':'OP(=O)(O)OCC1OC(N2C(=O)NC(=O)C(C)=C2)CC1',\n",
    "#             'G':'OP(=O)(O)OCC1OC(N2C=NC3=C2N=C(N)N=C3O)CC1',\n",
    "#             'C':'OP(=O)(O)OCC1OC(N2C(=O)N=C(N)C=C2)CC1',\n",
    "#             'K':\"OP(=O)(O)OCC1OC(N2C(=O)N=C(N)C(CO)=C2)CC1\", # 5hmC\n",
    "#             'M':'OP(=O)(O)OCC1OC(N2C(=O)N=C(N)C(C)=C2)CC1'}\n",
    "\n",
    "#     rna_base = {'A':'OP(=O)(O)OCC1OC(N3C=NC2=C(N)N=CN=C23)C(O)C1',\n",
    "#                 'T':'OP(=O)(O)OCC1OC(N2C(=O)NC(=O)C=C2)C(O)C1',\n",
    "#                 'G':'OP(=O)(O)OCC1OC(N2C=NC3=C2N=C(N)N=C3O)C(O)C1',\n",
    "#                 'C':'OP(=O)(O)OCC1OC(N2C(=O)N=C(N)C=C2)C(O)C1',\n",
    "#                 'Q':'OP(=O)(O)OCC1OC(C2C(=O)NC(=O)NC=2)C(O)C1', # pseudourinine\n",
    "#                 'I':'OP(=O)(O)OCC1OC(N3C=NC2C(=O)NC=NC=23)C(O)C1'} # I\n",
    "\n",
    "\n",
    "#     if n_type==\"DNA\":\n",
    "#         smiles = kmer_chemistry.get_kmer_smiles(k, dna_base)\n",
    "#         smiles = [smiles.get(kmer)[0] for kmer in kmer_list]\n",
    "\n",
    "#         A, X = kmer_chemistry.get_AX_matrix(smiles, ['C', 'N', 'O', 'P'], 133)\n",
    "\n",
    "#     elif n_type==\"RNA\":\n",
    "#         smiles = kmer_chemistry.get_kmer_smiles(k, rna_base)\n",
    "#         smiles = [smiles.get(kmer)[0] for kmer in kmer_list]\n",
    "\n",
    "#         A, X = kmer_chemistry.get_AX_matrix(smiles, ['C', 'N', 'O', 'P'], 116)\n",
    "#     return A,X, smiles\n",
    "\n",
    "def plot_molecule(smiles, size=(600, 300), kekulize=True):\n",
    "    '''\n",
    "    visualize a single SMILES string\n",
    "    code adapted from https://www.kaggle.com/corochann/visualize-molecules-with-rdkit\n",
    "    '''\n",
    "    mol = Chem.MolFromSmiles(smiles)\n",
    "    mol = Chem.Mol(mol.ToBinary())\n",
    "    for atom in mol.GetAtoms():\n",
    "        atom.SetProp('atomLabel',str(atom.GetIdx()))\n",
    "    if kekulize:\n",
    "        try:\n",
    "            Chem.Kekulize(mol)\n",
    "        except:\n",
    "            mol = Chem.Mol(mol.ToBinary())\n",
    "            \n",
    "    if not mol.GetNumConformers():\n",
    "        rdDepictor.Compute2DCoords(mol)\n",
    "    drawer = rdMolDraw2D.MolDraw2DSVG(size[0], size[1])\n",
    "    drawer.DrawMolecule(mol)\n",
    "    \n",
    "    drawer.FinishDrawing()\n",
    "    \n",
    "    svg = drawer.GetDrawingText()\n",
    "    return SVG(svg)\n",
    "#     return SVG(svg.replace('svg:',''))"
   ]
  },
  {
   "cell_type": "code",
   "execution_count": 3,
   "metadata": {},
   "outputs": [],
   "source": [
    "# fn = './ont_models/r9.4_180mv_450bps_6mer_DNA.model'\n",
    "# # fn = './ont_models/r9.4_180mv_70bps_5mer_RNA.model'\n",
    "# n_type = None\n",
    "\n",
    "# if 'RNA' in fn or 'rna' in fn:\n",
    "#     n_type='RNA'\n",
    "# else:\n",
    "#     n_type=\"DNA\"\n",
    "    \n",
    "# kmer_list, pA_list = kmer_parser(fn)"
   ]
  },
  {
   "cell_type": "code",
   "execution_count": 4,
   "metadata": {},
   "outputs": [],
   "source": [
    "# n_type=\"DNA\"\n",
    "# kmer_list = gen_all_kmers(alphabet=['A','T','C','G','Q'])\n",
    "# mg_3pos = np.random.choice(np.array([x for x in kmer_list if \"MG\"==x[2:4]]),5, replace=False)\n",
    "# mg_4pos = np.random.choice(np.array([x for x in kmer_list if \"MG\"==x[3:5]]),5, replace=False)\n",
    "# mg_list = np.hstack([mg_3pos, mg_4pos])\n",
    "# mt_3pos = np.random.choice(np.array([x for x in kmer_list if \"MT\"==x[2:4]]),5, replace=False)\n",
    "# mt_4pos = np.random.choice(np.array([x for x in kmer_list if \"MT\"==x[3:5]]),5, replace=False)\n",
    "# mt_list = np.hstack([mt_3pos, mt_4pos])\n",
    "# ma_3pos = np.random.choice(np.array([x for x in kmer_list if \"MA\"==x[2:4]]),5, replace=False)\n",
    "# ma_4pos = np.random.choice(np.array([x for x in kmer_list if \"MA\"==x[3:5]]),5, replace=False)\n",
    "# ma_list = np.hstack([ma_3pos, ma_4pos])\n",
    "\n",
    "# kmer_list=ma_list"
   ]
  },
  {
   "cell_type": "code",
   "execution_count": 5,
   "metadata": {},
   "outputs": [],
   "source": [
    "# kmers_6mA = np.array(list(map(lambda x: x.replace('A', 'Q'),kmer_list)))\n",
    "# # kmers_5hmC = np.array(list(map(lambda x: x.replace('C', 'K'),kmer_list)))\n",
    "\n",
    "# # running 6mA kmers\n",
    "# kmer_list=kmers_6mA\n",
    "\n",
    "# # running 5hmC kmers\n",
    "# # kmer_list=kmers_5hmC"
   ]
  },
  {
   "cell_type": "code",
   "execution_count": 6,
   "metadata": {},
   "outputs": [],
   "source": [
    "kmer_list = [\"AGTCTA\", \"CGACGT\", \"CGCAAG\", \"GGCGGT\", \"GGCTGA\", \"GTAGGC\", \"TGACGA\", \"TGGCCG\", \"TTCAAT\", \"TTTTTC\", \"CGGMAG\", \"CGMATC\", \"GTMAGA\", \"CMMTTG\", \"CMMMTT\", \"GMMTTM\", \"MCMGTG\", \"MMCMGT\", \"MMTMGA\", \"TAMGGT\"]\n",
    "n_type=\"DNA\"\n",
    "\n",
    "A, X, smiles = kmer_chemistry.get_AX(kmer_list,n_type=n_type ,return_smiles=True)\n",
    "gcn_filters = initialize_filters(A)"
   ]
  },
  {
   "cell_type": "code",
   "execution_count": null,
   "metadata": {},
   "outputs": [],
   "source": []
  },
  {
   "cell_type": "code",
   "execution_count": 7,
   "metadata": {},
   "outputs": [
    {
     "data": {
      "text/plain": [
       "(20, 133, 8)"
      ]
     },
     "execution_count": 7,
     "metadata": {},
     "output_type": "execute_result"
    }
   ],
   "source": [
    "X.shape"
   ]
  },
  {
   "cell_type": "code",
   "execution_count": 8,
   "metadata": {},
   "outputs": [],
   "source": [
    "# res_dict={}\n",
    "# res_dict['kmers'] = kmer_list\n",
    "# res_dict['predictions'] = None\n",
    "\n",
    "# predictions = model.predict([X,gcn_filters])\n",
    "# res_dict['predictions'] = predictions\n",
    "# np.save('./results/dna_model_applied_on_%s_results.npy'%('_'.join(kmer_list)), res_dict)"
   ]
  },
  {
   "cell_type": "code",
   "execution_count": 9,
   "metadata": {},
   "outputs": [],
   "source": [
    "# model.summary()"
   ]
  },
  {
   "cell_type": "code",
   "execution_count": 10,
   "metadata": {},
   "outputs": [],
   "source": [
    "# mol = Chem.MolFromSmiles(smiles[0])\n",
    "# for atom in mol.GetAtoms():\n",
    "#     atom.SetProp('atomLabel',str(atom.GetIdx()))\n",
    "\n",
    "# DrawingOptions.atomLabelFontSize = 55\n",
    "# DrawingOptions.dotsPerAngstrom = 100\n",
    "# DrawingOptions.bondLineWidth = 1.0\n",
    "# DrawingOptions.includeAtomNumbers=True\n",
    "# Draw.MolToFile( mol, \"test_smiles.png\" )\n"
   ]
  },
  {
   "cell_type": "code",
   "execution_count": 11,
   "metadata": {},
   "outputs": [
    {
     "data": {
      "text/plain": [
       "array([5])"
      ]
     },
     "execution_count": 11,
     "metadata": {},
     "output_type": "execute_result"
    }
   ],
   "source": [
    "np.arange(5,6)"
   ]
  },
  {
   "cell_type": "code",
   "execution_count": 12,
   "metadata": {},
   "outputs": [
    {
     "name": "stderr",
     "output_type": "stream",
     "text": [
      "WARNING: Logging before flag parsing goes to stderr.\n",
      "W0813 02:59:36.647053 140367308826432 deprecation_wrapper.py:119] From /home/ubuntu/anaconda3/lib/python3.7/site-packages/keras/backend/tensorflow_backend.py:74: The name tf.get_default_graph is deprecated. Please use tf.compat.v1.get_default_graph instead.\n",
      "\n",
      "W0813 02:59:36.649491 140367308826432 deprecation_wrapper.py:119] From /home/ubuntu/anaconda3/lib/python3.7/site-packages/keras/backend/tensorflow_backend.py:517: The name tf.placeholder is deprecated. Please use tf.compat.v1.placeholder instead.\n",
      "\n",
      "W0813 02:59:36.655933 140367308826432 deprecation_wrapper.py:119] From /home/ubuntu/anaconda3/lib/python3.7/site-packages/keras/backend/tensorflow_backend.py:4138: The name tf.random_uniform is deprecated. Please use tf.random.uniform instead.\n",
      "\n",
      "W0813 02:59:36.691562 140367308826432 deprecation_wrapper.py:119] From /home/ubuntu/anaconda3/lib/python3.7/site-packages/keras/backend/tensorflow_backend.py:133: The name tf.placeholder_with_default is deprecated. Please use tf.compat.v1.placeholder_with_default instead.\n",
      "\n",
      "W0813 02:59:36.701838 140367308826432 deprecation.py:506] From /home/ubuntu/anaconda3/lib/python3.7/site-packages/keras/backend/tensorflow_backend.py:3445: calling dropout (from tensorflow.python.ops.nn_ops) with keep_prob is deprecated and will be removed in a future version.\n",
      "Instructions for updating:\n",
      "Please use `rate` instead of `keep_prob`. Rate should be set to `rate = 1 - keep_prob`.\n"
     ]
    },
    {
     "name": "stdout",
     "output_type": "stream",
     "text": [
      "running repeat 0...\n"
     ]
    },
    {
     "name": "stderr",
     "output_type": "stream",
     "text": [
      "W0813 02:59:36.961126 140367308826432 deprecation_wrapper.py:119] From /home/ubuntu/anaconda3/lib/python3.7/site-packages/keras/backend/tensorflow_backend.py:3980: The name tf.nn.avg_pool is deprecated. Please use tf.nn.avg_pool2d instead.\n",
      "\n",
      "W0813 02:59:37.049578 140367308826432 deprecation_wrapper.py:119] From /home/ubuntu/anaconda3/lib/python3.7/site-packages/keras/backend/tensorflow_backend.py:174: The name tf.get_default_session is deprecated. Please use tf.compat.v1.get_default_session instead.\n",
      "\n"
     ]
    },
    {
     "name": "stdout",
     "output_type": "stream",
     "text": [
      "running repeat 1...\n",
      "running repeat 2...\n",
      "running repeat 3...\n",
      "running repeat 4...\n",
      "running repeat 5...\n",
      "running repeat 6...\n",
      "running repeat 7...\n",
      "running repeat 8...\n",
      "running repeat 9...\n",
      "running repeat 10...\n",
      "running repeat 11...\n",
      "running repeat 12...\n",
      "running repeat 13...\n",
      "running repeat 14...\n",
      "running repeat 15...\n",
      "running repeat 16...\n",
      "running repeat 17...\n",
      "running repeat 18...\n",
      "running repeat 19...\n",
      "running repeat 20...\n",
      "running repeat 21...\n",
      "running repeat 22...\n",
      "running repeat 23...\n",
      "running repeat 24...\n",
      "running repeat 25...\n",
      "running repeat 26...\n",
      "running repeat 27...\n",
      "running repeat 28...\n",
      "running repeat 29...\n",
      "running repeat 30...\n",
      "running repeat 31...\n",
      "running repeat 32...\n",
      "running repeat 33...\n",
      "running repeat 34...\n",
      "running repeat 35...\n",
      "running repeat 36...\n",
      "running repeat 37...\n",
      "running repeat 38...\n",
      "running repeat 39...\n",
      "running repeat 40...\n",
      "running repeat 41...\n",
      "running repeat 42...\n",
      "running repeat 43...\n",
      "running repeat 44...\n",
      "running repeat 45...\n",
      "running repeat 46...\n",
      "running repeat 47...\n",
      "running repeat 48...\n",
      "running repeat 49...\n"
     ]
    }
   ],
   "source": [
    "# kmer_list = [x for x in kmer_list if 'Q' in x] #6mA\n",
    "# kmer_list = [x for x in kmer_list if 'K' in x] #5hmC\n",
    "# kmer_idx=np.random.choice(np.arange(len(kmer_list)), 10, replace=False)\n",
    "from rdkit.Chem import rdDepictor\n",
    "from rdkit.Chem.Draw import rdMolDraw2D\n",
    "\n",
    "kmer_idx= np.arange(len(kmer_list)) # for MA,MG,MT context analysis\n",
    "\n",
    "res_dict = {}\n",
    "res_dict['kmer'] = []\n",
    "res_dict['kmer_smiles'] = []\n",
    "\n",
    "\n",
    "for repeat in range(50):\n",
    "    print('running repeat %d...'%repeat)\n",
    "    res_dict['atom_by_atom_pearson_repeat_%d'%repeat]= []\n",
    "    \n",
    "    config = tf.ConfigProto()\n",
    "\n",
    "    session = tf.Session(config=config)\n",
    "    K.set_session(session)\n",
    "    \n",
    "    if n_type=='DNA':\n",
    "        model = initialize_model(X, gcn_filters, n_gcn=5, n_cnn=1, kernal_size_cnn=10, n_dense=5, dropout=0.1)\n",
    "        model.load_weights('./saved_models/dna_model_repeat%d.h5'%repeat)\n",
    "    elif n_type=='RNA':\n",
    "        model = initialize_model(X, gcn_filters, n_gcn=1, n_cnn=5, kernal_size_cnn=4, n_dense=5, dropout=0.1)\n",
    "        with open('./saved_models/rna_model.json', 'r') as json_file:\n",
    "            architecture = json_file.read()\n",
    "            model = model_from_json(architecture, custom_objects={'MultiGraphCNN':MultiGraphCNN})\n",
    "            model.load_weights('./saved_models/rna_model_repeat0.h5')\n",
    "\n",
    "\n",
    "\n",
    "    for idx in kmer_idx:\n",
    "#         print(kmer_list[idx])\n",
    "        res_dict['kmer']+=[kmer_list[idx]]\n",
    "        res_dict['kmer_smiles']+=[smiles[idx]]\n",
    "#         print(smiles[idx])\n",
    "#         plot_molecule(smiles[idx],size=(900, 600))\n",
    "\n",
    "\n",
    "        for layer_idx in np.arange(4,5):\n",
    "            model_output = model.get_layer(\"multi_graph_cnn_%d\"%layer_idx).output\n",
    "            m = Model(inputs=model.input, outputs=model_output)\n",
    "            final_gcn_layer_out = m.predict([X[idx][np.newaxis,:],gcn_filters[idx][np.newaxis,:]])\n",
    "            final_gcn_layer_out = final_gcn_layer_out.reshape(final_gcn_layer_out.shape[1],-1)\n",
    "\n",
    "            atom_by_atom = np.empty((final_gcn_layer_out.shape[0],final_gcn_layer_out.shape[0]))\n",
    "            for i,i_vec in enumerate(final_gcn_layer_out):\n",
    "                for j, j_vec in enumerate(final_gcn_layer_out):\n",
    "                    r,_=pearsonr(i_vec, j_vec)\n",
    "                    atom_by_atom[i,j]=r\n",
    "\n",
    "#             plt.figure(figsize=(15,12))\n",
    "#             sns.heatmap(atom_by_atom)\n",
    "#             plt.title('GCN layer %d'%layer_idx)\n",
    "#             plt.show()\n",
    "#             plt.close()\n",
    "\n",
    "        res_dict['atom_by_atom_pearson_repeat_%d'%repeat]+=[atom_by_atom] # all by all from last gcn layer\n",
    "    K.clear_session()\n",
    "np.save('./gcn_interpret_kmers/dna_atom_by_atom_pearson.npy',res_dict)"
   ]
  },
  {
   "cell_type": "code",
   "execution_count": null,
   "metadata": {},
   "outputs": [],
   "source": []
  },
  {
   "cell_type": "code",
   "execution_count": null,
   "metadata": {},
   "outputs": [],
   "source": []
  },
  {
   "cell_type": "code",
   "execution_count": null,
   "metadata": {},
   "outputs": [],
   "source": []
  },
  {
   "cell_type": "code",
   "execution_count": null,
   "metadata": {},
   "outputs": [],
   "source": []
  },
  {
   "cell_type": "code",
   "execution_count": null,
   "metadata": {},
   "outputs": [],
   "source": []
  },
  {
   "cell_type": "code",
   "execution_count": null,
   "metadata": {},
   "outputs": [],
   "source": []
  },
  {
   "cell_type": "code",
   "execution_count": null,
   "metadata": {},
   "outputs": [],
   "source": []
  }
 ],
 "metadata": {
  "kernelspec": {
   "display_name": "Python 3",
   "language": "python",
   "name": "python3"
  },
  "language_info": {
   "codemirror_mode": {
    "name": "ipython",
    "version": 3
   },
   "file_extension": ".py",
   "mimetype": "text/x-python",
   "name": "python",
   "nbconvert_exporter": "python",
   "pygments_lexer": "ipython3",
   "version": "3.7.3"
  }
 },
 "nbformat": 4,
 "nbformat_minor": 2
}
